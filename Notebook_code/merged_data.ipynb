{
 "cells": [
  {
   "cell_type": "code",
   "execution_count": 5,
   "metadata": {},
   "outputs": [],
   "source": [
    "#importing libraries\n",
    "import pandas as pd\n",
    "import os\n",
    "import csv\n",
    "import json\n",
    "import numpy as np\n",
    "import plotly.graph_objects as go\n",
    "import plotly.express as px"
   ]
  },
  {
   "cell_type": "code",
   "execution_count": 18,
   "metadata": {},
   "outputs": [
    {
     "name": "stdout",
     "output_type": "stream",
     "text": [
      "<class 'pandas.core.frame.DataFrame'>\n",
      "RangeIndex: 121 entries, 0 to 120\n",
      "Data columns (total 7 columns):\n",
      " #   Column            Non-Null Count  Dtype  \n",
      "---  ------            --------------  -----  \n",
      " 0   name              121 non-null    object \n",
      " 1   address           121 non-null    object \n",
      " 2   city              121 non-null    object \n",
      " 3   state             121 non-null    object \n",
      " 4   zip               121 non-null    int64  \n",
      " 5   inspection_score  121 non-null    float64\n",
      " 6   rating            121 non-null    float64\n",
      "dtypes: float64(2), int64(1), object(4)\n",
      "memory usage: 6.7+ KB\n"
     ]
    }
   ],
   "source": [
    "#importing csv file\n",
    "merged_df = pd.read_csv(\"../Notebook_code/yelp_merge_data.csv\")\n",
    "merged_df.head()\n",
    "merged_df.info()"
   ]
  },
  {
   "cell_type": "code",
   "execution_count": 19,
   "metadata": {},
   "outputs": [
    {
     "name": "stdout",
     "output_type": "stream",
     "text": [
      "<class 'pandas.core.frame.DataFrame'>\n",
      "RangeIndex: 121 entries, 0 to 120\n",
      "Data columns (total 7 columns):\n",
      " #   Column            Non-Null Count  Dtype  \n",
      "---  ------            --------------  -----  \n",
      " 0   name              121 non-null    object \n",
      " 1   address           121 non-null    object \n",
      " 2   city              121 non-null    object \n",
      " 3   state             121 non-null    object \n",
      " 4   zip               121 non-null    object \n",
      " 5   inspection_score  121 non-null    float64\n",
      " 6   rating            121 non-null    float64\n",
      "dtypes: float64(2), object(5)\n",
      "memory usage: 6.7+ KB\n"
     ]
    }
   ],
   "source": [
    "merged_df['zip'] = merged_df['zip'].astype(str)\n",
    "merged_df.info()"
   ]
  },
  {
   "cell_type": "code",
   "execution_count": 31,
   "metadata": {},
   "outputs": [
    {
     "data": {
      "application/vnd.plotly.v1+json": {
       "config": {
        "plotlyServerURL": "https://plot.ly"
       },
       "data": [
        {
         "customdata": [
          [
           "arizmendi bakery",
           "1268 valencia st",
           "San Francisco"
          ],
          [
           "vive la tarte",
           "1 ferry building  north arcade 50/50a",
           "San Francisco"
          ],
          [
           "kokio republic",
           "428 11th st",
           "San Francisco"
          ],
          [
           "gallery cafe",
           "1200 mason st",
           "San Francisco"
          ],
          [
           "as quoted",
           "3613 sacramento st",
           "San Francisco"
          ],
          [
           "cathead's bbq",
           "1665 folsom st",
           "San Francisco"
          ],
          [
           "i'a poke",
           "1515 fillmore st",
           "San Francisco"
          ],
          [
           "milkbean",
           "881 post st",
           "San Francisco"
          ],
          [
           "social kitchen & brewery",
           "1326 09th ave",
           "San Francisco"
          ],
          [
           "top round roast beef",
           "2962 24th st.",
           "San Francisco"
          ],
          [
           "taqueria cazadores",
           "1600 c mission st",
           "San Francisco"
          ],
          [
           "baiano pizzeria",
           "100 gough st",
           "San Francisco"
          ],
          [
           "tasty pot",
           "815 clement st",
           "San Francisco"
          ],
          [
           "mission beach cafe",
           "198 guerrero st",
           "San Francisco"
          ],
          [
           "breakfast little",
           "3224 22nd st.",
           "San Francisco"
          ],
          [
           "craftsman and wolves",
           "746 valencia st",
           "San Francisco"
          ],
          [
           "chomp station",
           "428 11th st",
           "San Francisco"
          ],
          [
           "our poke place",
           "3515 20th st",
           "San Francisco"
          ],
          [
           "la fromagerie",
           "101 montgomery st",
           "San Francisco"
          ],
          [
           "bazaar cafe",
           "5927 california st",
           "San Francisco"
          ],
          [
           "tortas los picudos",
           "2969 24th st",
           "San Francisco"
          ],
          [
           "the spanish table",
           "130 clement st",
           "San Francisco"
          ],
          [
           "the crepe house",
           "1132 valencia st",
           "San Francisco"
          ],
          [
           "poki time",
           "2101 lombard st",
           "San Francisco"
          ],
          [
           "toasty",
           "2760 octavia st",
           "San Francisco"
          ],
          [
           "boba guys",
           "3491 19th st",
           "San Francisco"
          ],
          [
           "huli huli hawaiian grill",
           "4100 03rd st",
           "San Francisco"
          ],
          [
           "paulie's pickling",
           "331 cortland ave",
           "San Francisco"
          ],
          [
           "mathilde french bistro",
           "315 05th st",
           "San Francisco"
          ],
          [
           "mission pie",
           "2901 mission st",
           "San Francisco"
          ],
          [
           "cafe de casa",
           "2701 leavenworth st",
           "San Francisco"
          ],
          [
           "sugarhill kitchen",
           "1449 lombard st",
           "San Francisco"
          ],
          [
           "new russian hill market",
           "1198 pacific ave",
           "San Francisco"
          ],
          [
           "parlor 1255",
           "1255 battery st ste. 700",
           "San Francisco"
          ],
          [
           "lou's cafe",
           "100 pine st 102",
           "San Francisco"
          ],
          [
           "sam's diner",
           "1220 market street",
           "San Francisco"
          ],
          [
           "another cafe",
           "1191 pine st",
           "San Francisco"
          ],
          [
           "banh mi house",
           "2701 san bruno ave",
           "San Francisco"
          ],
          [
           "bartlett hall",
           "242 o'farrell st",
           "San Francisco"
          ],
          [
           "the italian homemade company",
           "716 columbus ave",
           "San Francisco"
          ],
          [
           "chai bar by david rio",
           "1019 market st",
           "San Francisco"
          ],
          [
           "the morris",
           "2501 mariposa st",
           "San Francisco"
          ],
          [
           "mymy",
           "1500 california st",
           "San Francisco"
          ],
          [
           "oasis grill",
           "200 04th st",
           "San Francisco"
          ],
          [
           "boudin bakery & cafe",
           "160 jefferson st 1st floor",
           "San Francisco"
          ],
          [
           "state bird provisions",
           "1529 fillmore st",
           "San Francisco"
          ],
          [
           "20th century cafe",
           "198 gough st",
           "San Francisco"
          ],
          [
           "central coffee tea & spice",
           "1696 hayes st",
           "San Francisco"
          ],
          [
           "cindy's market",
           "2084 hayes st",
           "San Francisco"
          ],
          [
           "the richfield",
           "195 05th ave",
           "San Francisco"
          ],
          [
           "alimento",
           "507 columbus ave",
           "San Francisco"
          ],
          [
           "poke life",
           "1700 owens st.",
           "San Francisco"
          ],
          [
           "barrel head brewhouse",
           "1785 fulton st",
           "San Francisco"
          ],
          [
           "sunset reservoir brewing company",
           "1735 noriega st",
           "San Francisco"
          ],
          [
           "chantal guillon",
           "437 a hayes st",
           "San Francisco"
          ],
          [
           "church street cafe",
           "260 church st",
           "San Francisco"
          ],
          [
           "cafe murano",
           "2301 bryant st",
           "San Francisco"
          ],
          [
           "fillmore street cafe",
           "1301 fillmore street",
           "San Francisco"
          ],
          [
           "the art bistro",
           "6900 geary blvd",
           "San Francisco"
          ],
          [
           "java beach cafe",
           "1396 la playa st",
           "San Francisco"
          ],
          [
           "the game parlour",
           "1342 irving st",
           "San Francisco"
          ],
          [
           "nopa",
           "560 divisadero st",
           "San Francisco"
          ],
          [
           "vixi",
           "3611 california st",
           "San Francisco"
          ],
          [
           "lava java",
           "852 stanyan st",
           "San Francisco"
          ],
          [
           "weaver's coffee & tea",
           "2301 market st",
           "San Francisco"
          ],
          [
           "nook",
           "1500 hyde st",
           "San Francisco"
          ],
          [
           "sushirrito",
           "59 new montgomery st",
           "San Francisco"
          ],
          [
           "the ice cream bar",
           "815 cole st",
           "San Francisco"
          ],
          [
           "hot sauce and panko",
           "1468 hyde st",
           "San Francisco"
          ],
          [
           "che fico alimentari",
           "834 divisadero st",
           "San Francisco"
          ],
          [
           "hog island oyster co",
           "1 ferry building #11a",
           "San Francisco"
          ],
          [
           "frances",
           "3870 17th st",
           "San Francisco"
          ],
          [
           "tartine manufactory",
           "595 alabama st",
           "San Francisco"
          ],
          [
           "urban ritual",
           "488 fell st",
           "San Francisco"
          ],
          [
           "bluestone lane",
           "227 front st",
           "San Francisco"
          ],
          [
           "mission cheese",
           "736 valencia st",
           "San Francisco"
          ],
          [
           "amal's deli",
           "1416 haight st",
           "San Francisco"
          ],
          [
           "thorough bread & pastry",
           "248 church",
           "San Francisco"
          ],
          [
           "limoncello",
           "1400 sutter st.",
           "San Francisco"
          ],
          [
           "flor de cafe",
           "1020 valencia st.",
           "San Francisco"
          ],
          [
           "piccino",
           "1001 minnesota st",
           "San Francisco"
          ],
          [
           "back room",
           "4601 geary blvd",
           "San Francisco"
          ],
          [
           "jane the bakery",
           "1875 geary blvd",
           "San Francisco"
          ],
          [
           "common sage",
           "1552 polk st",
           "San Francisco"
          ],
          [
           "pearl",
           "6101 california st",
           "San Francisco"
          ],
          [
           "upcider",
           "1160 polk st, 2nd floor",
           "San Francisco"
          ],
          [
           "roxie food center",
           "1901 san jose ave.",
           "San Francisco"
          ],
          [
           "wing wings",
           "422 haight st",
           "San Francisco"
          ],
          [
           "breadbelly",
           "1408 clement st",
           "San Francisco"
          ],
          [
           "the creamery",
           "685 04th st",
           "San Francisco"
          ],
          [
           "monsieur benjamin",
           "451 gough st",
           "San Francisco"
          ],
          [
           "platform 248",
           "248 09 st",
           "San Francisco"
          ],
          [
           "cinderella bakery & cafe",
           "0436 balboa st",
           "San Francisco"
          ],
          [
           "wok this way",
           "560 balboa st",
           "San Francisco"
          ],
          [
           "pete's deli & cafe",
           "1661 divisadero st",
           "San Francisco"
          ],
          [
           "bunn mike",
           "300 de haro st",
           "San Francisco"
          ],
          [
           "earth's coffee",
           "3400 geary blvd",
           "San Francisco"
          ],
          [
           "yummy dumpling",
           "1708 irving st",
           "San Francisco"
          ],
          [
           "eightea",
           "91 06th st",
           "San Francisco"
          ],
          [
           "the bagel bakery cafe",
           "5351 geary blvd",
           "San Francisco"
          ],
          [
           "saucy asian",
           "3801 17th st",
           "San Francisco"
          ],
          [
           "lovejoy's tea room",
           "1351 church st",
           "San Francisco"
          ],
          [
           "pacific food mart",
           "2199 sutter st",
           "San Francisco"
          ],
          [
           "the cheesecake factory",
           "251 geary st, 8th floor",
           "San Francisco"
          ],
          [
           "mai mai sandwich & bakery",
           "750 clement st",
           "San Francisco"
          ],
          [
           "kowloon tong dessert cafe",
           "393 07th ave",
           "San Francisco"
          ],
          [
           "picnic on third",
           "493 03rd st",
           "San Francisco"
          ],
          [
           "hookt mini doughnuts",
           "1379 4th st",
           "San Francisco"
          ],
          [
           "papa mak's burgers",
           "3755 noriega st",
           "San Francisco"
          ],
          [
           "beloved cafe",
           "3338 24th st",
           "San Francisco"
          ],
          [
           "ak subs",
           "397 08th st",
           "San Francisco"
          ],
          [
           "the fruit tree",
           "2241 geary blvd",
           "San Francisco"
          ],
          [
           "torraku ramen",
           "428 11th st",
           "San Francisco"
          ],
          [
           "tanguito",
           "2850 jones st",
           "San Francisco"
          ],
          [
           "pork store cafe",
           "1451 haight st",
           "San Francisco"
          ],
          [
           "karma cafe",
           "1901 hayes st",
           "San Francisco"
          ],
          [
           "monterey deli",
           "499 monterey blvd",
           "San Francisco"
          ],
          [
           "cool cravings",
           "601 van ness ave",
           "San Francisco"
          ],
          [
           "parkside market",
           "1600 hayes st",
           "San Francisco"
          ],
          [
           "beachside coffee bar & kitchen",
           "4300 judah st",
           "San Francisco"
          ],
          [
           "el cafe",
           "1400 taraval st",
           "San Francisco"
          ]
         ],
         "hovertemplate": "zip=%{x}<br>inspection_score=%{marker.size}<br>name=%{customdata[0]}<br>address=%{customdata[1]}<br>city=%{customdata[2]}<br>rating=%{marker.color}<extra></extra>",
         "legendgroup": "",
         "marker": {
          "color": [
           4.5,
           4,
           4,
           4,
           3.5,
           4,
           4,
           4.5,
           3.5,
           4,
           4,
           3.5,
           4,
           4,
           5,
           4,
           4.5,
           4,
           4.5,
           4,
           4.5,
           4.5,
           4,
           4,
           4,
           4,
           4.5,
           4.5,
           4,
           4,
           4.5,
           4,
           4,
           4,
           4.5,
           4,
           4,
           4.5,
           3.5,
           4.5,
           4.5,
           4.5,
           4,
           4,
           4,
           4,
           4,
           4.5,
           4.5,
           4.5,
           4.5,
           4,
           4,
           3.5,
           4.5,
           4,
           4,
           4,
           4.5,
           4,
           4.5,
           4,
           4,
           4,
           4.5,
           4,
           5,
           4,
           4.5,
           4.5,
           4.5,
           4.5,
           3.5,
           4.5,
           4,
           4,
           5,
           4.5,
           5,
           4.5,
           4,
           4.5,
           4,
           4,
           4.5,
           4,
           4.5,
           3.5,
           4.5,
           3,
           4,
           4,
           4,
           4,
           4,
           4,
           4,
           4.5,
           3.5,
           3,
           4,
           4.5,
           4.5,
           3,
           4.5,
           3.5,
           4.5,
           4.5,
           3.5,
           4.5,
           4,
           4.5,
           4,
           4,
           4,
           4.5,
           4.5,
           4.5,
           4.5,
           4,
           5
          ],
          "coloraxis": "coloraxis",
          "size": [
           88,
           100,
           84,
           96,
           89,
           92,
           86,
           94,
           68,
           98,
           78,
           94,
           85,
           65,
           98,
           96,
           92,
           94,
           92,
           96,
           92,
           100,
           94,
           91,
           94,
           98,
           86,
           96,
           86,
           100,
           94,
           91,
           100,
           94,
           86,
           86,
           87,
           91,
           83,
           82,
           96,
           87,
           94,
           90,
           98,
           92,
           94,
           87,
           98,
           94,
           96,
           88,
           83,
           92,
           96,
           100,
           96,
           90,
           82,
           96,
           98,
           93,
           90,
           94,
           96,
           94,
           82,
           100,
           96,
           96,
           98,
           96,
           87,
           100,
           83,
           93,
           85,
           100,
           96,
           92,
           88,
           88,
           92,
           94,
           84,
           94,
           96,
           92,
           96,
           90,
           98,
           88,
           87,
           72,
           81,
           84,
           96,
           90,
           76,
           96,
           96,
           92,
           81,
           94,
           96,
           90,
           87,
           100,
           94,
           96,
           92,
           100,
           82,
           90,
           84,
           96,
           92,
           80,
           90,
           85,
           92
          ],
          "sizemode": "area",
          "sizeref": 0.25,
          "symbol": "circle"
         },
         "mode": "markers",
         "name": "",
         "orientation": "v",
         "showlegend": false,
         "type": "scatter",
         "x": [
          "94110",
          "94111",
          "94109",
          "94108",
          "94118",
          "94103",
          "94114",
          "94109",
          "94122",
          "94110",
          "94110",
          "94102",
          "94118",
          "94103",
          "94110",
          "94110",
          "94103",
          "94110",
          "94101",
          "94121",
          "94110",
          "94118",
          "94110",
          "94123",
          "94123",
          "94110",
          "94124",
          "94110",
          "94107",
          "94110",
          "94133",
          "94123",
          "94133",
          "94111",
          "94111",
          "94102",
          "94109",
          "94134",
          "94102",
          "94133",
          "94103",
          "94110",
          "94109",
          "94103",
          "94133",
          "94115",
          "94102",
          "94117",
          "94117",
          "94118",
          "94133",
          "94158",
          "94117",
          "94122",
          "94102",
          "94114",
          "94110",
          "94115",
          "94121",
          "94122",
          "94122",
          "94117",
          "94118",
          "94117",
          "94114",
          "94109",
          "94105",
          "94117",
          "94109",
          "94117",
          "94111",
          "94114",
          "94110",
          "94102",
          "94111",
          "94110",
          "94117",
          "94114",
          "94109",
          "94110",
          "94107",
          "94118",
          "94115",
          "94109",
          "94121",
          "94109",
          "94112",
          "94117",
          "94118",
          "94107",
          "94102",
          "94103",
          "94118",
          "94118",
          "94115",
          "94103",
          "94118",
          "94122",
          "94103",
          "94121",
          "94110",
          "94114",
          "94115",
          "94102",
          "94118",
          "94118",
          "94107",
          "94122",
          "94122",
          "94110",
          "94103",
          "94115",
          "94103",
          "94133",
          "94117",
          "94117",
          "94127",
          "94102",
          "94117",
          "94122",
          "94116"
         ],
         "xaxis": "x",
         "y": [
          88,
          100,
          84,
          96,
          89,
          92,
          86,
          94,
          68,
          98,
          78,
          94,
          85,
          65,
          98,
          96,
          92,
          94,
          92,
          96,
          92,
          100,
          94,
          91,
          94,
          98,
          86,
          96,
          86,
          100,
          94,
          91,
          100,
          94,
          86,
          86,
          87,
          91,
          83,
          82,
          96,
          87,
          94,
          90,
          98,
          92,
          94,
          87,
          98,
          94,
          96,
          88,
          83,
          92,
          96,
          100,
          96,
          90,
          82,
          96,
          98,
          93,
          90,
          94,
          96,
          94,
          82,
          100,
          96,
          96,
          98,
          96,
          87,
          100,
          83,
          93,
          85,
          100,
          96,
          92,
          88,
          88,
          92,
          94,
          84,
          94,
          96,
          92,
          96,
          90,
          98,
          88,
          87,
          72,
          81,
          84,
          96,
          90,
          76,
          96,
          96,
          92,
          81,
          94,
          96,
          90,
          87,
          100,
          94,
          96,
          92,
          100,
          82,
          90,
          84,
          96,
          92,
          80,
          90,
          85,
          92
         ],
         "yaxis": "y"
        }
       ],
       "layout": {
        "coloraxis": {
         "colorbar": {
          "title": {
           "text": "rating"
          }
         },
         "colorscale": [
          [
           0,
           "#0d0887"
          ],
          [
           0.1111111111111111,
           "#46039f"
          ],
          [
           0.2222222222222222,
           "#7201a8"
          ],
          [
           0.3333333333333333,
           "#9c179e"
          ],
          [
           0.4444444444444444,
           "#bd3786"
          ],
          [
           0.5555555555555556,
           "#d8576b"
          ],
          [
           0.6666666666666666,
           "#ed7953"
          ],
          [
           0.7777777777777778,
           "#fb9f3a"
          ],
          [
           0.8888888888888888,
           "#fdca26"
          ],
          [
           1,
           "#f0f921"
          ]
         ]
        },
        "legend": {
         "itemsizing": "constant",
         "tracegroupgap": 0
        },
        "template": {
         "data": {
          "bar": [
           {
            "error_x": {
             "color": "#2a3f5f"
            },
            "error_y": {
             "color": "#2a3f5f"
            },
            "marker": {
             "line": {
              "color": "#E5ECF6",
              "width": 0.5
             },
             "pattern": {
              "fillmode": "overlay",
              "size": 10,
              "solidity": 0.2
             }
            },
            "type": "bar"
           }
          ],
          "barpolar": [
           {
            "marker": {
             "line": {
              "color": "#E5ECF6",
              "width": 0.5
             },
             "pattern": {
              "fillmode": "overlay",
              "size": 10,
              "solidity": 0.2
             }
            },
            "type": "barpolar"
           }
          ],
          "carpet": [
           {
            "aaxis": {
             "endlinecolor": "#2a3f5f",
             "gridcolor": "white",
             "linecolor": "white",
             "minorgridcolor": "white",
             "startlinecolor": "#2a3f5f"
            },
            "baxis": {
             "endlinecolor": "#2a3f5f",
             "gridcolor": "white",
             "linecolor": "white",
             "minorgridcolor": "white",
             "startlinecolor": "#2a3f5f"
            },
            "type": "carpet"
           }
          ],
          "choropleth": [
           {
            "colorbar": {
             "outlinewidth": 0,
             "ticks": ""
            },
            "type": "choropleth"
           }
          ],
          "contour": [
           {
            "colorbar": {
             "outlinewidth": 0,
             "ticks": ""
            },
            "colorscale": [
             [
              0,
              "#0d0887"
             ],
             [
              0.1111111111111111,
              "#46039f"
             ],
             [
              0.2222222222222222,
              "#7201a8"
             ],
             [
              0.3333333333333333,
              "#9c179e"
             ],
             [
              0.4444444444444444,
              "#bd3786"
             ],
             [
              0.5555555555555556,
              "#d8576b"
             ],
             [
              0.6666666666666666,
              "#ed7953"
             ],
             [
              0.7777777777777778,
              "#fb9f3a"
             ],
             [
              0.8888888888888888,
              "#fdca26"
             ],
             [
              1,
              "#f0f921"
             ]
            ],
            "type": "contour"
           }
          ],
          "contourcarpet": [
           {
            "colorbar": {
             "outlinewidth": 0,
             "ticks": ""
            },
            "type": "contourcarpet"
           }
          ],
          "heatmap": [
           {
            "colorbar": {
             "outlinewidth": 0,
             "ticks": ""
            },
            "colorscale": [
             [
              0,
              "#0d0887"
             ],
             [
              0.1111111111111111,
              "#46039f"
             ],
             [
              0.2222222222222222,
              "#7201a8"
             ],
             [
              0.3333333333333333,
              "#9c179e"
             ],
             [
              0.4444444444444444,
              "#bd3786"
             ],
             [
              0.5555555555555556,
              "#d8576b"
             ],
             [
              0.6666666666666666,
              "#ed7953"
             ],
             [
              0.7777777777777778,
              "#fb9f3a"
             ],
             [
              0.8888888888888888,
              "#fdca26"
             ],
             [
              1,
              "#f0f921"
             ]
            ],
            "type": "heatmap"
           }
          ],
          "heatmapgl": [
           {
            "colorbar": {
             "outlinewidth": 0,
             "ticks": ""
            },
            "colorscale": [
             [
              0,
              "#0d0887"
             ],
             [
              0.1111111111111111,
              "#46039f"
             ],
             [
              0.2222222222222222,
              "#7201a8"
             ],
             [
              0.3333333333333333,
              "#9c179e"
             ],
             [
              0.4444444444444444,
              "#bd3786"
             ],
             [
              0.5555555555555556,
              "#d8576b"
             ],
             [
              0.6666666666666666,
              "#ed7953"
             ],
             [
              0.7777777777777778,
              "#fb9f3a"
             ],
             [
              0.8888888888888888,
              "#fdca26"
             ],
             [
              1,
              "#f0f921"
             ]
            ],
            "type": "heatmapgl"
           }
          ],
          "histogram": [
           {
            "marker": {
             "pattern": {
              "fillmode": "overlay",
              "size": 10,
              "solidity": 0.2
             }
            },
            "type": "histogram"
           }
          ],
          "histogram2d": [
           {
            "colorbar": {
             "outlinewidth": 0,
             "ticks": ""
            },
            "colorscale": [
             [
              0,
              "#0d0887"
             ],
             [
              0.1111111111111111,
              "#46039f"
             ],
             [
              0.2222222222222222,
              "#7201a8"
             ],
             [
              0.3333333333333333,
              "#9c179e"
             ],
             [
              0.4444444444444444,
              "#bd3786"
             ],
             [
              0.5555555555555556,
              "#d8576b"
             ],
             [
              0.6666666666666666,
              "#ed7953"
             ],
             [
              0.7777777777777778,
              "#fb9f3a"
             ],
             [
              0.8888888888888888,
              "#fdca26"
             ],
             [
              1,
              "#f0f921"
             ]
            ],
            "type": "histogram2d"
           }
          ],
          "histogram2dcontour": [
           {
            "colorbar": {
             "outlinewidth": 0,
             "ticks": ""
            },
            "colorscale": [
             [
              0,
              "#0d0887"
             ],
             [
              0.1111111111111111,
              "#46039f"
             ],
             [
              0.2222222222222222,
              "#7201a8"
             ],
             [
              0.3333333333333333,
              "#9c179e"
             ],
             [
              0.4444444444444444,
              "#bd3786"
             ],
             [
              0.5555555555555556,
              "#d8576b"
             ],
             [
              0.6666666666666666,
              "#ed7953"
             ],
             [
              0.7777777777777778,
              "#fb9f3a"
             ],
             [
              0.8888888888888888,
              "#fdca26"
             ],
             [
              1,
              "#f0f921"
             ]
            ],
            "type": "histogram2dcontour"
           }
          ],
          "mesh3d": [
           {
            "colorbar": {
             "outlinewidth": 0,
             "ticks": ""
            },
            "type": "mesh3d"
           }
          ],
          "parcoords": [
           {
            "line": {
             "colorbar": {
              "outlinewidth": 0,
              "ticks": ""
             }
            },
            "type": "parcoords"
           }
          ],
          "pie": [
           {
            "automargin": true,
            "type": "pie"
           }
          ],
          "scatter": [
           {
            "fillpattern": {
             "fillmode": "overlay",
             "size": 10,
             "solidity": 0.2
            },
            "type": "scatter"
           }
          ],
          "scatter3d": [
           {
            "line": {
             "colorbar": {
              "outlinewidth": 0,
              "ticks": ""
             }
            },
            "marker": {
             "colorbar": {
              "outlinewidth": 0,
              "ticks": ""
             }
            },
            "type": "scatter3d"
           }
          ],
          "scattercarpet": [
           {
            "marker": {
             "colorbar": {
              "outlinewidth": 0,
              "ticks": ""
             }
            },
            "type": "scattercarpet"
           }
          ],
          "scattergeo": [
           {
            "marker": {
             "colorbar": {
              "outlinewidth": 0,
              "ticks": ""
             }
            },
            "type": "scattergeo"
           }
          ],
          "scattergl": [
           {
            "marker": {
             "colorbar": {
              "outlinewidth": 0,
              "ticks": ""
             }
            },
            "type": "scattergl"
           }
          ],
          "scattermapbox": [
           {
            "marker": {
             "colorbar": {
              "outlinewidth": 0,
              "ticks": ""
             }
            },
            "type": "scattermapbox"
           }
          ],
          "scatterpolar": [
           {
            "marker": {
             "colorbar": {
              "outlinewidth": 0,
              "ticks": ""
             }
            },
            "type": "scatterpolar"
           }
          ],
          "scatterpolargl": [
           {
            "marker": {
             "colorbar": {
              "outlinewidth": 0,
              "ticks": ""
             }
            },
            "type": "scatterpolargl"
           }
          ],
          "scatterternary": [
           {
            "marker": {
             "colorbar": {
              "outlinewidth": 0,
              "ticks": ""
             }
            },
            "type": "scatterternary"
           }
          ],
          "surface": [
           {
            "colorbar": {
             "outlinewidth": 0,
             "ticks": ""
            },
            "colorscale": [
             [
              0,
              "#0d0887"
             ],
             [
              0.1111111111111111,
              "#46039f"
             ],
             [
              0.2222222222222222,
              "#7201a8"
             ],
             [
              0.3333333333333333,
              "#9c179e"
             ],
             [
              0.4444444444444444,
              "#bd3786"
             ],
             [
              0.5555555555555556,
              "#d8576b"
             ],
             [
              0.6666666666666666,
              "#ed7953"
             ],
             [
              0.7777777777777778,
              "#fb9f3a"
             ],
             [
              0.8888888888888888,
              "#fdca26"
             ],
             [
              1,
              "#f0f921"
             ]
            ],
            "type": "surface"
           }
          ],
          "table": [
           {
            "cells": {
             "fill": {
              "color": "#EBF0F8"
             },
             "line": {
              "color": "white"
             }
            },
            "header": {
             "fill": {
              "color": "#C8D4E3"
             },
             "line": {
              "color": "white"
             }
            },
            "type": "table"
           }
          ]
         },
         "layout": {
          "annotationdefaults": {
           "arrowcolor": "#2a3f5f",
           "arrowhead": 0,
           "arrowwidth": 1
          },
          "autotypenumbers": "strict",
          "coloraxis": {
           "colorbar": {
            "outlinewidth": 0,
            "ticks": ""
           }
          },
          "colorscale": {
           "diverging": [
            [
             0,
             "#8e0152"
            ],
            [
             0.1,
             "#c51b7d"
            ],
            [
             0.2,
             "#de77ae"
            ],
            [
             0.3,
             "#f1b6da"
            ],
            [
             0.4,
             "#fde0ef"
            ],
            [
             0.5,
             "#f7f7f7"
            ],
            [
             0.6,
             "#e6f5d0"
            ],
            [
             0.7,
             "#b8e186"
            ],
            [
             0.8,
             "#7fbc41"
            ],
            [
             0.9,
             "#4d9221"
            ],
            [
             1,
             "#276419"
            ]
           ],
           "sequential": [
            [
             0,
             "#0d0887"
            ],
            [
             0.1111111111111111,
             "#46039f"
            ],
            [
             0.2222222222222222,
             "#7201a8"
            ],
            [
             0.3333333333333333,
             "#9c179e"
            ],
            [
             0.4444444444444444,
             "#bd3786"
            ],
            [
             0.5555555555555556,
             "#d8576b"
            ],
            [
             0.6666666666666666,
             "#ed7953"
            ],
            [
             0.7777777777777778,
             "#fb9f3a"
            ],
            [
             0.8888888888888888,
             "#fdca26"
            ],
            [
             1,
             "#f0f921"
            ]
           ],
           "sequentialminus": [
            [
             0,
             "#0d0887"
            ],
            [
             0.1111111111111111,
             "#46039f"
            ],
            [
             0.2222222222222222,
             "#7201a8"
            ],
            [
             0.3333333333333333,
             "#9c179e"
            ],
            [
             0.4444444444444444,
             "#bd3786"
            ],
            [
             0.5555555555555556,
             "#d8576b"
            ],
            [
             0.6666666666666666,
             "#ed7953"
            ],
            [
             0.7777777777777778,
             "#fb9f3a"
            ],
            [
             0.8888888888888888,
             "#fdca26"
            ],
            [
             1,
             "#f0f921"
            ]
           ]
          },
          "colorway": [
           "#636efa",
           "#EF553B",
           "#00cc96",
           "#ab63fa",
           "#FFA15A",
           "#19d3f3",
           "#FF6692",
           "#B6E880",
           "#FF97FF",
           "#FECB52"
          ],
          "font": {
           "color": "#2a3f5f"
          },
          "geo": {
           "bgcolor": "white",
           "lakecolor": "white",
           "landcolor": "#E5ECF6",
           "showlakes": true,
           "showland": true,
           "subunitcolor": "white"
          },
          "hoverlabel": {
           "align": "left"
          },
          "hovermode": "closest",
          "mapbox": {
           "style": "light"
          },
          "paper_bgcolor": "white",
          "plot_bgcolor": "#E5ECF6",
          "polar": {
           "angularaxis": {
            "gridcolor": "white",
            "linecolor": "white",
            "ticks": ""
           },
           "bgcolor": "#E5ECF6",
           "radialaxis": {
            "gridcolor": "white",
            "linecolor": "white",
            "ticks": ""
           }
          },
          "scene": {
           "xaxis": {
            "backgroundcolor": "#E5ECF6",
            "gridcolor": "white",
            "gridwidth": 2,
            "linecolor": "white",
            "showbackground": true,
            "ticks": "",
            "zerolinecolor": "white"
           },
           "yaxis": {
            "backgroundcolor": "#E5ECF6",
            "gridcolor": "white",
            "gridwidth": 2,
            "linecolor": "white",
            "showbackground": true,
            "ticks": "",
            "zerolinecolor": "white"
           },
           "zaxis": {
            "backgroundcolor": "#E5ECF6",
            "gridcolor": "white",
            "gridwidth": 2,
            "linecolor": "white",
            "showbackground": true,
            "ticks": "",
            "zerolinecolor": "white"
           }
          },
          "shapedefaults": {
           "line": {
            "color": "#2a3f5f"
           }
          },
          "ternary": {
           "aaxis": {
            "gridcolor": "white",
            "linecolor": "white",
            "ticks": ""
           },
           "baxis": {
            "gridcolor": "white",
            "linecolor": "white",
            "ticks": ""
           },
           "bgcolor": "#E5ECF6",
           "caxis": {
            "gridcolor": "white",
            "linecolor": "white",
            "ticks": ""
           }
          },
          "title": {
           "x": 0.05
          },
          "xaxis": {
           "automargin": true,
           "gridcolor": "white",
           "linecolor": "white",
           "ticks": "",
           "title": {
            "standoff": 15
           },
           "zerolinecolor": "white",
           "zerolinewidth": 2
          },
          "yaxis": {
           "automargin": true,
           "gridcolor": "white",
           "linecolor": "white",
           "ticks": "",
           "title": {
            "standoff": 15
           },
           "zerolinecolor": "white",
           "zerolinewidth": 2
          }
         }
        },
        "title": {
         "text": "Inspections and Ratings of Restaurants in California"
        },
        "xaxis": {
         "anchor": "y",
         "domain": [
          0,
          1
         ],
         "title": {
          "text": "zip"
         }
        },
        "yaxis": {
         "anchor": "x",
         "domain": [
          0,
          1
         ],
         "title": {
          "text": "inspection_score"
         }
        }
       }
      }
     },
     "metadata": {},
     "output_type": "display_data"
    }
   ],
   "source": [
    "df = merged_df\n",
    "fig = px.scatter(df, x=\"zip\", y=\"inspection_score\", color=\"rating\",\n",
    "                 size='inspection_score', hover_data=[merged_df.name, merged_df.address, merged_df.city, merged_df.zip], title = \"Inspections and Ratings of Restaurants in California\")\n",
    "fig.show()"
   ]
  },
  {
   "cell_type": "code",
   "execution_count": null,
   "metadata": {},
   "outputs": [],
   "source": []
  }
 ],
 "metadata": {
  "kernelspec": {
   "display_name": "dev",
   "language": "python",
   "name": "python3"
  },
  "language_info": {
   "codemirror_mode": {
    "name": "ipython",
    "version": 3
   },
   "file_extension": ".py",
   "mimetype": "text/x-python",
   "name": "python",
   "nbconvert_exporter": "python",
   "pygments_lexer": "ipython3",
   "version": "3.10.13"
  }
 },
 "nbformat": 4,
 "nbformat_minor": 2
}
